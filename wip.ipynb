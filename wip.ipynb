{
 "cells": [
  {
   "cell_type": "code",
   "execution_count": 32,
   "metadata": {},
   "outputs": [],
   "source": [
    "# basic function to pull out all variables saved from matlab as dictionaries. Ignores the metadata also pulled in\n",
    "# with loadmat\n",
    "\n",
    "def import_matlab_file(file):\n",
    "    from scipy.io import loadmat\n",
    "    \n",
    "    mat_data = loadmat(file, struct_as_record = False, squeeze_me = True, mat_dtype = True, chars_as_strings = True, simplify_cells = True)\n",
    "    mat_data =  {k:v for k,v in mat_data.items() if '__' not in k};\n",
    "    \n",
    "    return mat_data\n",
    "    "
   ]
  },
  {
   "cell_type": "code",
   "execution_count": 2,
   "metadata": {},
   "outputs": [],
   "source": [
    "def pd_from_uneven_dict_old(d):\n",
    "\n",
    "    import pandas as pd\n",
    "    shapes = [v.shape for v in d.values()]\n",
    "    single_dim = {k:v for k,v in d.items() if max(shapes)[0] == v.shape[0]}\n",
    "    d2 = {};\n",
    "    for k,v in d.items():\n",
    "        if len(v.shape) > 1:\n",
    "            for i, j in enumerate(v):\n",
    "                key_name = k + \"_\" + f'{i}'\n",
    "                single_dim[key_name] = j\n",
    "        \n",
    "        if (len(v.shape) == 1) & (v.shape[0] != max(shapes[0])):\n",
    "            d2[k] = v\n",
    "\n",
    "\n",
    "    df = pd.DataFrame(single_dim)\n",
    "    return df, d2\n"
   ]
  },
  {
   "cell_type": "code",
   "execution_count": 33,
   "metadata": {},
   "outputs": [],
   "source": [
    "# function to create a pd dataframe from a dictionary where MOST variables have one long dimension, in my case, \n",
    "# corresponding to the number of trials. It tries to make keys the columns and the rows the trials. For cases\n",
    "# where there is 2D data, if there are greater than 10 elements in the second dim, it makes a list so each row \n",
    "# contains an array, if not it splits those into seperate columns with the convention k + idx as column name. \n",
    "# 3D data is split in third dimension then treated as a large ( >10 ) size.\n",
    "def pd_from_uneven_dict(d):\n",
    "\n",
    "    import numpy as np\n",
    "    import pandas as pd\n",
    "    \n",
    "    shapes = [v.shape for v in d.values() if len(v.shape) == 1]\n",
    "    trials = max(shapes)[0]\n",
    "\n",
    "    single_dim = {k:v for k,v in d.items() if (len(v.shape) == 1)  & (trials == v.shape[0])};\n",
    "    df = pd.DataFrame(single_dim);\n",
    "\n",
    "    remainder = {};\n",
    "\n",
    "    for k,v in d.items():\n",
    "        \n",
    "        if len(v.shape)  ==  3:\n",
    "            split_data = np.dsplit(v, v.shape[2]);\n",
    "            for ind, dim in enumerate(split_data):\n",
    "                col_name = k + \"_\"+f'{ind}';\n",
    "                if dim.shape[0] == trials:\n",
    "                    df[col_name] = list(np.squeeze(dim))\n",
    "                else:\n",
    "                    df[col_name] = list(np.squeeze(dim.transpose))\n",
    "        elif len(v.shape) == 2:\n",
    "            if v.shape[1] == trials:\n",
    "                v = v.transpose()\n",
    "\n",
    "            if v.shape[1] < 10:\n",
    "                for i, j in enumerate(v.transpose()):\n",
    "                        col_name = k + \"_\" + f'{i}'\n",
    "                        \n",
    "                        df[col_name] = j\n",
    "            else:\n",
    "                col_name = k\n",
    "                df[col_name] = list(np.squeeze(v))\n",
    "                \n",
    "        elif (len(v.shape) == 1)  & (trials != v.shape[0]):\n",
    "            remainder[k] = v;\n",
    "\n",
    "        \n",
    "            \n",
    "    return df, remainder\n"
   ]
  },
  {
   "cell_type": "code",
   "execution_count": 34,
   "metadata": {},
   "outputs": [],
   "source": [
    "def determine_latency(rxn, c):\n",
    "    import numpy as np\n",
    "    rx = []\n",
    "    for a in range(c.shape[0]):\n",
    "        r = (np.argwhere(c[a,:,:]== 1))\n",
    "\n",
    "        if r.size == 0 and rxn[a] > 0:\n",
    "            rx.append(rxn[a]);\n",
    "        elif r.size == 0:\n",
    "            rx.append(np.nan)\n",
    "            #ch.append(np.nan)\n",
    "        else:\n",
    "            #ch.append(r[0][0])\n",
    "            rx.append(r[0][1])\n",
    "\n",
    "    return rx"
   ]
  },
  {
   "cell_type": "code",
   "execution_count": 57,
   "metadata": {},
   "outputs": [],
   "source": [
    "# Function to take a folder path, load the behavioral and licking data. Clean it to a nice lil pandas df\n",
    "def load_beh_data(path, animal_id):\n",
    "\n",
    "    import os \n",
    "    import pandas as pd\n",
    "    import numpy as np\n",
    "\n",
    "    file_data = 'analyze_animal_'+animal_id+'.mat'\n",
    "    data_path = os.path.join(path,file_data)\n",
    "\n",
    "    beh_data = import_matlab_file(data_path)\n",
    "    beh_df, ignore = pd_from_uneven_dict(beh_data['animal'])\n",
    "    beh_df = beh_df.rename(columns={\"lick_0\": \"RH\", \"lick_1\": \"LH\", \"lick_2\": \"RM\", \"lick_3\": \"LM\", \"lick_4\": \"NG\"})\n",
    "\n",
    "    boo_cols = [\"RH\", \"LH\", \"RM\", \"LM\", \"NG\", \"LED\"]\n",
    "    beh_df[boo_cols] = beh_df[boo_cols].astype(bool)\n",
    "\n",
    "\n",
    "    file_ttl = 'ttl_info_'+animal_id+'.mat'\n",
    "    ttl_path = os.path.join(path, file_ttl)\n",
    "    ttl_data = import_matlab_file(ttl_path)\n",
    "\n",
    "    beh_df['Spout_1']= np.mean(ttl_data['trial_info']['lick'][:,750:825,0],axis = 1)\n",
    "    beh_df['Spout_2'] = np.mean(ttl_data['trial_info']['lick'][:,750:825,1],axis = 1)\n",
    "\n",
    "\n",
    "    file_ttl2 = 'ttl_choices_'+animal_id+'.mat'\n",
    "    ttl_path2 = os.path.join(path, file_ttl2)\n",
    "    ttl_data2 = import_matlab_file(ttl_path2)\n",
    "    c = ttl_data2['trial_info']['choice'][:,:,750:1750]\n",
    "    beh_df['latency'] = determine_latency(beh_df['rxnTime'], c)\n",
    "\n",
    "    return beh_df\n",
    "    \n",
    "    "
   ]
  },
  {
   "cell_type": "code",
   "execution_count": 58,
   "metadata": {},
   "outputs": [],
   "source": [
    "def clean_beh_data(b):\n",
    "    import numpy as np\n",
    "    import pandas as pd\n",
    "\n",
    "    \n",
    "    b2 = pd.DataFrame()\n",
    "    ns = np.array(np.append(1, np.diff(b['sessionNum'])), dtype = bool)\n",
    "\n",
    "    b2['Rightward'] = (b['RH'] | b['LM']).astype(int)\n",
    "    pr = np.concatenate(([0], b2['Rightward'][:-1].values));\n",
    "    pr[ns] = 0;\n",
    "    b2['Previous_rightward'] = pr;\n",
    "\n",
    "    b2['Correct'] = (b['RH'] | b['LH']).astype(int)\n",
    "    pc = np.concatenate(([0], b2['Correct'][:-1].values))  \n",
    "    pc[ns] = 0;\n",
    "    b2['Previous_correct'] = pc;\n",
    "\n",
    "    b2['Stimulus'] =np.log2(b['stimulus']/8)/2\n",
    "    b2['LED'] = b['LED'].astype(int);\n",
    "    b2['Target'] = b['target'].astype(int);\n",
    "    b2['Session'] = b['sessionNum'];\n",
    "\n",
    "   \n",
    "    b2['Latency'] = b['latency']/1000;\n",
    "    #b2['New_session']= ns;\n",
    "   \n",
    "    go = (b['RH'] | b['LM'] | b['RM'] | b['LH']).values\n",
    "    \n",
    "    b2 = b2.iloc[go,:]\n",
    "    \n",
    "    return b2"
   ]
  },
  {
   "cell_type": "code",
   "execution_count": null,
   "metadata": {},
   "outputs": [],
   "source": [
    "def preprocess_psytrack():\n",
    "    import numpy as np\n",
    "\n",
    "    inputs = dict(stim = np.expand_dims(np.array(b2['Stimulus']), axis=1),\n",
    "        LED = np.expand_dims(np.array(b2['Stimulus']).astype(int), axis=1),\n",
    "        previous_correct =  np.expand_dims(np.array(b2['Previous_correct']).astype(int), axis=1),\n",
    "        previous_choice =  np.expand_dims(np.array(b2['Previous_rightward']).astype(int), axis=1),\n",
    "        latency = np.expand_dims (np.array(b2['Previous_rightward']).astype(int), axis=1)\n",
    "    )   \n",
    "\n",
    "\n",
    "    dat = dict(\n",
    "            subject = animal,\n",
    "            inputs = inputs,\n",
    "            correct = np.array(b2['Correct']),\n",
    "            answer = np.array(b2['Target']),\n",
    "            y = np.array(b2['Rightward']),\n",
    "            dayLength=np.array(b2.groupby(['Session']).size()),\n",
    "        )\n",
    "\n",
    "weights = {k: 1 for k in inputs}\n",
    "weights['bias'] = 1\n",
    "\n",
    "k = np.sum([weights[i] for i in weights.keys()])\n",
    "\n",
    "\n"
   ]
  },
  {
   "cell_type": "code",
   "execution_count": 50,
   "metadata": {},
   "outputs": [
    {
     "data": {
      "text/html": [
       "<div>\n",
       "<style scoped>\n",
       "    .dataframe tbody tr th:only-of-type {\n",
       "        vertical-align: middle;\n",
       "    }\n",
       "\n",
       "    .dataframe tbody tr th {\n",
       "        vertical-align: top;\n",
       "    }\n",
       "\n",
       "    .dataframe thead th {\n",
       "        text-align: right;\n",
       "    }\n",
       "</style>\n",
       "<table border=\"1\" class=\"dataframe\">\n",
       "  <thead>\n",
       "    <tr style=\"text-align: right;\">\n",
       "      <th></th>\n",
       "      <th>runID</th>\n",
       "      <th>stimulus</th>\n",
       "      <th>rxnTime</th>\n",
       "      <th>sessionNum</th>\n",
       "      <th>LED</th>\n",
       "      <th>target</th>\n",
       "      <th>RH</th>\n",
       "      <th>LH</th>\n",
       "      <th>RM</th>\n",
       "      <th>LM</th>\n",
       "      <th>NG</th>\n",
       "      <th>Spout_1</th>\n",
       "      <th>Spout_2</th>\n",
       "      <th>latency</th>\n",
       "    </tr>\n",
       "  </thead>\n",
       "  <tbody>\n",
       "    <tr>\n",
       "      <th>0</th>\n",
       "      <td>1.0</td>\n",
       "      <td>32.0</td>\n",
       "      <td>-1.0</td>\n",
       "      <td>1.0</td>\n",
       "      <td>False</td>\n",
       "      <td>0.0</td>\n",
       "      <td>False</td>\n",
       "      <td>False</td>\n",
       "      <td>False</td>\n",
       "      <td>False</td>\n",
       "      <td>False</td>\n",
       "      <td>0.000000</td>\n",
       "      <td>0.0</td>\n",
       "      <td>NaN</td>\n",
       "    </tr>\n",
       "    <tr>\n",
       "      <th>1</th>\n",
       "      <td>1.0</td>\n",
       "      <td>2.0</td>\n",
       "      <td>-1.0</td>\n",
       "      <td>1.0</td>\n",
       "      <td>False</td>\n",
       "      <td>0.0</td>\n",
       "      <td>False</td>\n",
       "      <td>False</td>\n",
       "      <td>False</td>\n",
       "      <td>False</td>\n",
       "      <td>False</td>\n",
       "      <td>0.000000</td>\n",
       "      <td>0.0</td>\n",
       "      <td>NaN</td>\n",
       "    </tr>\n",
       "    <tr>\n",
       "      <th>2</th>\n",
       "      <td>1.0</td>\n",
       "      <td>2.0</td>\n",
       "      <td>-1.0</td>\n",
       "      <td>1.0</td>\n",
       "      <td>False</td>\n",
       "      <td>0.0</td>\n",
       "      <td>False</td>\n",
       "      <td>False</td>\n",
       "      <td>False</td>\n",
       "      <td>False</td>\n",
       "      <td>False</td>\n",
       "      <td>0.000000</td>\n",
       "      <td>0.0</td>\n",
       "      <td>NaN</td>\n",
       "    </tr>\n",
       "    <tr>\n",
       "      <th>3</th>\n",
       "      <td>1.0</td>\n",
       "      <td>32.0</td>\n",
       "      <td>-1.0</td>\n",
       "      <td>1.0</td>\n",
       "      <td>False</td>\n",
       "      <td>0.0</td>\n",
       "      <td>False</td>\n",
       "      <td>False</td>\n",
       "      <td>False</td>\n",
       "      <td>False</td>\n",
       "      <td>False</td>\n",
       "      <td>0.386667</td>\n",
       "      <td>0.0</td>\n",
       "      <td>NaN</td>\n",
       "    </tr>\n",
       "    <tr>\n",
       "      <th>4</th>\n",
       "      <td>1.0</td>\n",
       "      <td>2.0</td>\n",
       "      <td>-1.0</td>\n",
       "      <td>1.0</td>\n",
       "      <td>False</td>\n",
       "      <td>0.0</td>\n",
       "      <td>False</td>\n",
       "      <td>False</td>\n",
       "      <td>False</td>\n",
       "      <td>False</td>\n",
       "      <td>False</td>\n",
       "      <td>0.000000</td>\n",
       "      <td>0.0</td>\n",
       "      <td>NaN</td>\n",
       "    </tr>\n",
       "  </tbody>\n",
       "</table>\n",
       "</div>"
      ],
      "text/plain": [
       "   runID  stimulus  rxnTime  sessionNum    LED  target     RH     LH     RM  \\\n",
       "0    1.0      32.0     -1.0         1.0  False     0.0  False  False  False   \n",
       "1    1.0       2.0     -1.0         1.0  False     0.0  False  False  False   \n",
       "2    1.0       2.0     -1.0         1.0  False     0.0  False  False  False   \n",
       "3    1.0      32.0     -1.0         1.0  False     0.0  False  False  False   \n",
       "4    1.0       2.0     -1.0         1.0  False     0.0  False  False  False   \n",
       "\n",
       "      LM     NG   Spout_1  Spout_2  latency  \n",
       "0  False  False  0.000000      0.0      NaN  \n",
       "1  False  False  0.000000      0.0      NaN  \n",
       "2  False  False  0.000000      0.0      NaN  \n",
       "3  False  False  0.386667      0.0      NaN  \n",
       "4  False  False  0.000000      0.0      NaN  "
      ]
     },
     "execution_count": 50,
     "metadata": {},
     "output_type": "execute_result"
    }
   ],
   "source": [
    "test = load_beh_data(os.getcwd(), 'c_129')\n",
    "test.head()"
   ]
  },
  {
   "cell_type": "code",
   "execution_count": 31,
   "metadata": {},
   "outputs": [
    {
     "ename": "AttributeError",
     "evalue": "'tuple' object has no attribute 'rename'",
     "output_type": "error",
     "traceback": [
      "\u001b[0;31m---------------------------------------------------------------------------\u001b[0m",
      "\u001b[0;31mAttributeError\u001b[0m                            Traceback (most recent call last)",
      "\u001b[0;32m/var/folders/lf/k3tb8sld391_x17yyq9r60tm0000gn/T/ipykernel_13449/3229864471.py\u001b[0m in \u001b[0;36m<module>\u001b[0;34m\u001b[0m\n\u001b[1;32m      5\u001b[0m \u001b[0;34m\u001b[0m\u001b[0m\n\u001b[1;32m      6\u001b[0m \u001b[0;34m\u001b[0m\u001b[0m\n\u001b[0;32m----> 7\u001b[0;31m \u001b[0mtest\u001b[0m \u001b[0;34m=\u001b[0m \u001b[0mload_beh_data\u001b[0m\u001b[0;34m(\u001b[0m\u001b[0mos\u001b[0m\u001b[0;34m.\u001b[0m\u001b[0mgetcwd\u001b[0m\u001b[0;34m(\u001b[0m\u001b[0;34m)\u001b[0m\u001b[0;34m,\u001b[0m \u001b[0;34m'c_129'\u001b[0m\u001b[0;34m)\u001b[0m\u001b[0;34m\u001b[0m\u001b[0;34m\u001b[0m\u001b[0m\n\u001b[0m",
      "\u001b[0;32m/var/folders/lf/k3tb8sld391_x17yyq9r60tm0000gn/T/ipykernel_13449/4205191565.py\u001b[0m in \u001b[0;36mload_beh_data\u001b[0;34m(path, animal_id)\u001b[0m\n\u001b[1;32m      9\u001b[0m     \u001b[0mbeh_data\u001b[0m \u001b[0;34m=\u001b[0m \u001b[0mimport_matlab_file\u001b[0m\u001b[0;34m(\u001b[0m\u001b[0mdata_path\u001b[0m\u001b[0;34m)\u001b[0m\u001b[0;34m\u001b[0m\u001b[0;34m\u001b[0m\u001b[0m\n\u001b[1;32m     10\u001b[0m     \u001b[0mbeh_df\u001b[0m \u001b[0;34m=\u001b[0m \u001b[0mpd_from_uneven_dict\u001b[0m\u001b[0;34m(\u001b[0m\u001b[0mbeh_data\u001b[0m\u001b[0;34m[\u001b[0m\u001b[0;34m'animal'\u001b[0m\u001b[0;34m]\u001b[0m\u001b[0;34m)\u001b[0m\u001b[0;34m\u001b[0m\u001b[0;34m\u001b[0m\u001b[0m\n\u001b[0;32m---> 11\u001b[0;31m     \u001b[0mbeh_df\u001b[0m\u001b[0;34m.\u001b[0m\u001b[0mrename\u001b[0m\u001b[0;34m(\u001b[0m\u001b[0mcolumns\u001b[0m\u001b[0;34m=\u001b[0m\u001b[0;34m{\u001b[0m\u001b[0;34m\"lick_0\"\u001b[0m\u001b[0;34m:\u001b[0m \u001b[0;34m\"RH\"\u001b[0m\u001b[0;34m,\u001b[0m \u001b[0;34m\"lick_1\"\u001b[0m\u001b[0;34m:\u001b[0m \u001b[0;34m\"LH\"\u001b[0m\u001b[0;34m,\u001b[0m \u001b[0;34m\"lick_2\"\u001b[0m\u001b[0;34m:\u001b[0m \u001b[0;34m\"RM\"\u001b[0m\u001b[0;34m,\u001b[0m \u001b[0;34m\"lick_3\"\u001b[0m\u001b[0;34m:\u001b[0m \u001b[0;34m\"LM\"\u001b[0m\u001b[0;34m,\u001b[0m \u001b[0;34m\"lick_4\"\u001b[0m\u001b[0;34m:\u001b[0m \u001b[0;34m\"NG\"\u001b[0m\u001b[0;34m}\u001b[0m\u001b[0;34m)\u001b[0m\u001b[0;34m\u001b[0m\u001b[0;34m\u001b[0m\u001b[0m\n\u001b[0m\u001b[1;32m     12\u001b[0m \u001b[0;34m\u001b[0m\u001b[0m\n\u001b[1;32m     13\u001b[0m     \u001b[0mboo_cols\u001b[0m \u001b[0;34m=\u001b[0m \u001b[0;34m[\u001b[0m\u001b[0;34m\"RH\"\u001b[0m\u001b[0;34m,\u001b[0m \u001b[0;34m\"LH\"\u001b[0m\u001b[0;34m,\u001b[0m \u001b[0;34m\"RM\"\u001b[0m\u001b[0;34m,\u001b[0m \u001b[0;34m\"LM\"\u001b[0m\u001b[0;34m,\u001b[0m \u001b[0;34m\"NG\"\u001b[0m\u001b[0;34m,\u001b[0m \u001b[0;34m\"LED\"\u001b[0m\u001b[0;34m]\u001b[0m\u001b[0;34m\u001b[0m\u001b[0;34m\u001b[0m\u001b[0m\n",
      "\u001b[0;31mAttributeError\u001b[0m: 'tuple' object has no attribute 'rename'"
     ]
    }
   ],
   "source": [
    "#file = r'ttl_info_c_129.mat'\n",
    "file = r'analyze_animal_c_129.mat'\n",
    "mat_data = import_matlab_file(file)\n",
    "#data, d2 = pd_from_uneven_dict(mat_data['animal'])\n"
   ]
  },
  {
   "cell_type": "code",
   "execution_count": 112,
   "metadata": {},
   "outputs": [
    {
     "data": {
      "text/plain": [
       "(7707,)"
      ]
     },
     "execution_count": 112,
     "metadata": {},
     "output_type": "execute_result"
    }
   ],
   "source": [
    "sp1 = np.mean(ttl_data['trial_info']['lick'][:,750:825,0],axis = 1)\n",
    "sp1.shape\n"
   ]
  },
  {
   "cell_type": "code",
   "execution_count": 80,
   "metadata": {},
   "outputs": [],
   "source": [
    "work_path = r'C:\\Users\\natet\\Desktop\\Experimental_Data';\n",
    "home_path = os.getcwd();\n",
    "animal = 'c_129'\n",
    "\n",
    "\n"
   ]
  },
  {
   "cell_type": "code",
   "execution_count": 18,
   "metadata": {},
   "outputs": [],
   "source": [
    "beh_df, remainder = pd_from_uneven_dict(mat_data['animal'])"
   ]
  },
  {
   "cell_type": "code",
   "execution_count": 103,
   "metadata": {},
   "outputs": [
    {
     "data": {
      "text/plain": [
       "Index(['runID', 'stimulus', 'rxnTime', 'sessionNum', 'LED', 'target', 'RH',\n",
       "       'LH', 'RM', 'LM', 'NG'],\n",
       "      dtype='object')"
      ]
     },
     "execution_count": 103,
     "metadata": {},
     "output_type": "execute_result"
    }
   ],
   "source": [
    "beh_df = beh_df.rename(columns={\"lick_0\": \"RH\", \"lick_1\": \"LH\", \"lick_2\": \"RM\", \"lick_3\": \"LM\", \"lick_4\": \"NG\"})\n",
    "beh_df.columns"
   ]
  },
  {
   "cell_type": "code",
   "execution_count": 14,
   "metadata": {},
   "outputs": [
    {
     "ename": "NameError",
     "evalue": "name 'beh_df' is not defined",
     "output_type": "error",
     "traceback": [
      "\u001b[0;31m---------------------------------------------------------------------------\u001b[0m",
      "\u001b[0;31mNameError\u001b[0m                                 Traceback (most recent call last)",
      "\u001b[0;32m/var/folders/lf/k3tb8sld391_x17yyq9r60tm0000gn/T/ipykernel_13449/477276934.py\u001b[0m in \u001b[0;36m<module>\u001b[0;34m\u001b[0m\n\u001b[1;32m      1\u001b[0m \u001b[0mboo_cols\u001b[0m \u001b[0;34m=\u001b[0m \u001b[0;34m[\u001b[0m\u001b[0;34m'RH'\u001b[0m\u001b[0;34m,\u001b[0m \u001b[0;34m'LH'\u001b[0m\u001b[0;34m,\u001b[0m \u001b[0;34m'RM'\u001b[0m\u001b[0;34m,\u001b[0m \u001b[0;34m'LM'\u001b[0m\u001b[0;34m,\u001b[0m \u001b[0;34m'NG'\u001b[0m\u001b[0;34m,\u001b[0m \u001b[0;34m'LED'\u001b[0m\u001b[0;34m]\u001b[0m\u001b[0;34m\u001b[0m\u001b[0;34m\u001b[0m\u001b[0m\n\u001b[0;32m----> 2\u001b[0;31m \u001b[0mbeh_df\u001b[0m\u001b[0;34m[\u001b[0m\u001b[0mboo_cols\u001b[0m\u001b[0;34m]\u001b[0m \u001b[0;34m=\u001b[0m \u001b[0mbeh_df\u001b[0m\u001b[0;34m[\u001b[0m\u001b[0mboo_cols\u001b[0m\u001b[0;34m]\u001b[0m\u001b[0;34m.\u001b[0m\u001b[0mastype\u001b[0m\u001b[0;34m(\u001b[0m\u001b[0mbool\u001b[0m\u001b[0;34m)\u001b[0m\u001b[0;34m\u001b[0m\u001b[0;34m\u001b[0m\u001b[0m\n\u001b[0m",
      "\u001b[0;31mNameError\u001b[0m: name 'beh_df' is not defined"
     ]
    }
   ],
   "source": [
    "boo_cols = ['RH', 'LH', 'RM', 'LM', 'NG', 'LED']\n",
    "beh_df[boo_cols] = beh_df[boo_cols].astype(bool)"
   ]
  },
  {
   "cell_type": "code",
   "execution_count": 6,
   "metadata": {},
   "outputs": [],
   "source": [
    "file_ttl2 =  r'ttl_choices_c_129.mat'\n",
    "ttl_data2 = import_matlab_file(file_ttl2)\n",
    "    "
   ]
  },
  {
   "cell_type": "code",
   "execution_count": 7,
   "metadata": {},
   "outputs": [],
   "source": [
    "c = ttl_data2['trial_info']['choice'][:,:,750:2750]"
   ]
  },
  {
   "cell_type": "code",
   "execution_count": 25,
   "metadata": {},
   "outputs": [],
   "source": [
    "lat = determine_latency(beh_df['rxnTime'], c)"
   ]
  },
  {
   "cell_type": "code",
   "execution_count": 28,
   "metadata": {},
   "outputs": [
    {
     "data": {
      "text/plain": [
       "<AxesSubplot:>"
      ]
     },
     "execution_count": 28,
     "metadata": {},
     "output_type": "execute_result"
    },
    {
     "data": {
      "image/png": "[encoded data removed]",
      "text/plain": [
       "<Figure size 432x288 with 1 Axes>"
      ]
     },
     "metadata": {
      "needs_background": "light"
     },
     "output_type": "display_data"
    }
   ],
   "source": [
    "beh_df['latency'] = lat;\n",
    "beh_df['latency'].hist()"
   ]
  },
  {
   "cell_type": "code",
   "execution_count": null,
   "metadata": {},
   "outputs": [],
   "source": []
  }
 ],
 "metadata": {
  "kernelspec": {
   "display_name": "Python 3.9.7 ('base')",
   "language": "python",
   "name": "python3"
  },
  "language_info": {
   "codemirror_mode": {
    "name": "ipython",
    "version": 3
   },
   "file_extension": ".py",
   "mimetype": "text/x-python",
   "name": "python",
   "nbconvert_exporter": "python",
   "pygments_lexer": "ipython3",
   "version": "3.9.7"
  },
  "orig_nbformat": 4,
  "vscode": {
   "interpreter": {
    "hash": "40d3a090f54c6569ab1632332b64b2c03c39dcf918b08424e98f38b5ae0af88f"
   }
  }
 },
 "nbformat": 4,
 "nbformat_minor": 2
}
