{
 "cells": [
  {
   "cell_type": "code",
   "execution_count": 185,
   "metadata": {},
   "outputs": [],
   "source": [
    "def import_matlab_file(file):\n",
    "    from scipy.io import loadmat\n",
    "    \n",
    "    mat_data = loadmat(file, struct_as_record = False, squeeze_me = True, mat_dtype = True, chars_as_strings = True, simplify_cells = True)\n",
    "    mat_data =  {k:v for k,v in mat_data.items() if '__' not in k};\n",
    "    \n",
    "    return mat_data\n",
    "    "
   ]
  },
  {
   "cell_type": "code",
   "execution_count": 216,
   "metadata": {},
   "outputs": [],
   "source": [
    "def pd_from_uneven_dict(d):\n",
    "\n",
    "    import pandas as pd\n",
    "    shapes = [v.shape for v in d.values()]\n",
    "    single_dim = {k:v for k,v in d.items() if max(shapes)[0] == v.shape[0]}\n",
    "    d2 = {};\n",
    "    for k,v in d.items():\n",
    "        if len(v.shape) > 1:\n",
    "            for i, j in enumerate(v):\n",
    "                key_name = k + \"_\" + f'{i}'\n",
    "                single_dim[key_name] = j\n",
    "        \n",
    "        if (len(v.shape) == 1) & (v.shape[0] != max(shapes[0])):\n",
    "            d2[k] = v\n",
    "\n",
    "\n",
    "    df = pd.DataFrame(single_dim)\n",
    "    return df, d2\n"
   ]
  },
  {
   "cell_type": "code",
   "execution_count": 217,
   "metadata": {},
   "outputs": [],
   "source": [
    "file = r'C:\\Users\\natet\\Desktop\\Experimental_Data\\CAMKII\\opto_97\\analyze_animal_opto_97.mat'\n",
    "mat_data = import_matlab_file(file)\n",
    "data, d2 = pd_from_uneven_dict(mat_data['animal'])"
   ]
  },
  {
   "cell_type": "code",
   "execution_count": null,
   "metadata": {},
   "outputs": [],
   "source": []
  },
  {
   "cell_type": "code",
   "execution_count": null,
   "metadata": {},
   "outputs": [],
   "source": []
  },
  {
   "cell_type": "code",
   "execution_count": null,
   "metadata": {},
   "outputs": [],
   "source": []
  },
  {
   "cell_type": "code",
   "execution_count": null,
   "metadata": {},
   "outputs": [],
   "source": []
  },
  {
   "cell_type": "code",
   "execution_count": null,
   "metadata": {},
   "outputs": [],
   "source": []
  }
 ],
 "metadata": {
  "kernelspec": {
   "display_name": "Python 3.8.3 ('base')",
   "language": "python",
   "name": "python3"
  },
  "language_info": {
   "codemirror_mode": {
    "name": "ipython",
    "version": 3
   },
   "file_extension": ".py",
   "mimetype": "text/x-python",
   "name": "python",
   "nbconvert_exporter": "python",
   "pygments_lexer": "ipython3",
   "version": "3.8.3"
  },
  "orig_nbformat": 4,
  "vscode": {
   "interpreter": {
    "hash": "ad2bdc8ecc057115af97d19610ffacc2b4e99fae6737bb82f5d7fb13d2f2c186"
   }
  }
 },
 "nbformat": 4,
 "nbformat_minor": 2
}
